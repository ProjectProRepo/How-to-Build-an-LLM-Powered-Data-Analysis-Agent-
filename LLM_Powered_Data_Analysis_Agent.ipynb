{
  "nbformat": 4,
  "nbformat_minor": 0,
  "metadata": {
    "colab": {
      "provenance": [],
      "gpuType": "T4",
      "authorship_tag": "ABX9TyOCgAr+aGky1sfRMR3DPyyi",
      "include_colab_link": true
    },
    "kernelspec": {
      "name": "python3",
      "display_name": "Python 3"
    },
    "language_info": {
      "name": "python"
    },
    "accelerator": "GPU"
  },
  "cells": [
    {
      "cell_type": "markdown",
      "metadata": {
        "id": "view-in-github",
        "colab_type": "text"
      },
      "source": [
        "<a href=\"https://colab.research.google.com/github/ProjectProRepo/How-to-Build-an-LLM-Powered-Data-Analysis-Agent-/blob/main/LLM_Powered_Data_Analysis_Agent.ipynb\" target=\"_parent\"><img src=\"https://colab.research.google.com/assets/colab-badge.svg\" alt=\"Open In Colab\"/></a>"
      ]
    },
    {
      "cell_type": "code",
      "execution_count": 2,
      "metadata": {
        "colab": {
          "base_uri": "https://localhost:8080/"
        },
        "id": "Fp3NyIzHtpEq",
        "outputId": "cf70c48c-45b3-45c8-da66-7250c20bef52"
      },
      "outputs": [
        {
          "output_type": "stream",
          "name": "stdout",
          "text": [
            "  Installing build dependencies ... \u001b[?25l\u001b[?25hdone\n",
            "  Getting requirements to build wheel ... \u001b[?25l\u001b[?25hdone\n",
            "  Preparing metadata (pyproject.toml) ... \u001b[?25l\u001b[?25hdone\n",
            "\u001b[33mWARNING: embedchain 0.1.126 does not provide the extra 'github'\u001b[0m\u001b[33m\n",
            "\u001b[0m\u001b[33mWARNING: embedchain 0.1.126 does not provide the extra 'youtube'\u001b[0m\u001b[33m\n",
            "\u001b[0m\u001b[33mWARNING: embedchain 0.1.125 does not provide the extra 'github'\u001b[0m\u001b[33m\n",
            "\u001b[0m\u001b[33mWARNING: embedchain 0.1.125 does not provide the extra 'youtube'\u001b[0m\u001b[33m\n",
            "\u001b[0m\u001b[33mWARNING: embedchain 0.1.124 does not provide the extra 'github'\u001b[0m\u001b[33m\n",
            "\u001b[0m\u001b[33mWARNING: embedchain 0.1.124 does not provide the extra 'youtube'\u001b[0m\u001b[33m\n",
            "\u001b[0m\u001b[33mWARNING: embedchain 0.1.123 does not provide the extra 'github'\u001b[0m\u001b[33m\n",
            "\u001b[0m\u001b[33mWARNING: embedchain 0.1.123 does not provide the extra 'youtube'\u001b[0m\u001b[33m\n",
            "\u001b[0m\u001b[33mWARNING: embedchain 0.1.122 does not provide the extra 'github'\u001b[0m\u001b[33m\n",
            "\u001b[0m\u001b[33mWARNING: embedchain 0.1.122 does not provide the extra 'youtube'\u001b[0m\u001b[33m\n",
            "\u001b[0m\u001b[33mWARNING: embedchain 0.1.121 does not provide the extra 'github'\u001b[0m\u001b[33m\n",
            "\u001b[0m\u001b[33mWARNING: embedchain 0.1.121 does not provide the extra 'youtube'\u001b[0m\u001b[33m\n",
            "\u001b[0m\u001b[33mWARNING: embedchain 0.1.120 does not provide the extra 'github'\u001b[0m\u001b[33m\n",
            "\u001b[0m\u001b[33mWARNING: embedchain 0.1.120 does not provide the extra 'youtube'\u001b[0m\u001b[33m\n",
            "\u001b[0m\u001b[33mWARNING: embedchain 0.1.119 does not provide the extra 'github'\u001b[0m\u001b[33m\n",
            "\u001b[0m\u001b[33mWARNING: embedchain 0.1.119 does not provide the extra 'youtube'\u001b[0m\u001b[33m\n",
            "\u001b[0m\u001b[33mWARNING: embedchain 0.1.118 does not provide the extra 'github'\u001b[0m\u001b[33m\n",
            "\u001b[0m\u001b[33mWARNING: embedchain 0.1.118 does not provide the extra 'youtube'\u001b[0m\u001b[33m\n",
            "\u001b[0m\u001b[33mWARNING: embedchain 0.1.117 does not provide the extra 'github'\u001b[0m\u001b[33m\n",
            "\u001b[0m\u001b[33mWARNING: embedchain 0.1.117 does not provide the extra 'youtube'\u001b[0m\u001b[33m\n",
            "\u001b[0m  Building wheel for pypika (pyproject.toml) ... \u001b[?25l\u001b[?25hdone\n",
            "\u001b[31mERROR: pip's dependency resolver does not currently take into account all the packages that are installed. This behaviour is the source of the following dependency conflicts.\n",
            "torch 2.5.1+cu124 requires nvidia-cublas-cu12==12.4.5.8; platform_system == \"Linux\" and platform_machine == \"x86_64\", but you have nvidia-cublas-cu12 12.5.3.2 which is incompatible.\n",
            "torch 2.5.1+cu124 requires nvidia-cuda-cupti-cu12==12.4.127; platform_system == \"Linux\" and platform_machine == \"x86_64\", but you have nvidia-cuda-cupti-cu12 12.5.82 which is incompatible.\n",
            "torch 2.5.1+cu124 requires nvidia-cuda-nvrtc-cu12==12.4.127; platform_system == \"Linux\" and platform_machine == \"x86_64\", but you have nvidia-cuda-nvrtc-cu12 12.5.82 which is incompatible.\n",
            "torch 2.5.1+cu124 requires nvidia-cuda-runtime-cu12==12.4.127; platform_system == \"Linux\" and platform_machine == \"x86_64\", but you have nvidia-cuda-runtime-cu12 12.5.82 which is incompatible.\n",
            "torch 2.5.1+cu124 requires nvidia-cudnn-cu12==9.1.0.70; platform_system == \"Linux\" and platform_machine == \"x86_64\", but you have nvidia-cudnn-cu12 9.3.0.75 which is incompatible.\n",
            "torch 2.5.1+cu124 requires nvidia-cufft-cu12==11.2.1.3; platform_system == \"Linux\" and platform_machine == \"x86_64\", but you have nvidia-cufft-cu12 11.2.3.61 which is incompatible.\n",
            "torch 2.5.1+cu124 requires nvidia-curand-cu12==10.3.5.147; platform_system == \"Linux\" and platform_machine == \"x86_64\", but you have nvidia-curand-cu12 10.3.6.82 which is incompatible.\n",
            "torch 2.5.1+cu124 requires nvidia-cusolver-cu12==11.6.1.9; platform_system == \"Linux\" and platform_machine == \"x86_64\", but you have nvidia-cusolver-cu12 11.6.3.83 which is incompatible.\n",
            "torch 2.5.1+cu124 requires nvidia-cusparse-cu12==12.3.1.170; platform_system == \"Linux\" and platform_machine == \"x86_64\", but you have nvidia-cusparse-cu12 12.5.1.3 which is incompatible.\n",
            "torch 2.5.1+cu124 requires nvidia-nvjitlink-cu12==12.4.127; platform_system == \"Linux\" and platform_machine == \"x86_64\", but you have nvidia-nvjitlink-cu12 12.5.82 which is incompatible.\n",
            "gcsfs 2024.10.0 requires fsspec==2024.10.0, but you have fsspec 2024.6.1 which is incompatible.\u001b[0m\u001b[31m\n",
            "\u001b[0mCollecting exa-py\n",
            "  Downloading exa_py-1.8.5-py3-none-any.whl.metadata (3.4 kB)\n",
            "Requirement already satisfied: openai<2.0,>=1.48 in /usr/local/lib/python3.11/dist-packages (from exa-py) (1.59.9)\n",
            "Requirement already satisfied: requests<3.0.0,>=2.32.3 in /usr/local/lib/python3.11/dist-packages (from exa-py) (2.32.3)\n",
            "Requirement already satisfied: typing-extensions<5.0.0,>=4.12.2 in /usr/local/lib/python3.11/dist-packages (from exa-py) (4.12.2)\n",
            "Requirement already satisfied: anyio<5,>=3.5.0 in /usr/local/lib/python3.11/dist-packages (from openai<2.0,>=1.48->exa-py) (3.7.1)\n",
            "Requirement already satisfied: distro<2,>=1.7.0 in /usr/local/lib/python3.11/dist-packages (from openai<2.0,>=1.48->exa-py) (1.9.0)\n",
            "Requirement already satisfied: httpx<1,>=0.23.0 in /usr/local/lib/python3.11/dist-packages (from openai<2.0,>=1.48->exa-py) (0.28.1)\n",
            "Requirement already satisfied: jiter<1,>=0.4.0 in /usr/local/lib/python3.11/dist-packages (from openai<2.0,>=1.48->exa-py) (0.8.2)\n",
            "Requirement already satisfied: pydantic<3,>=1.9.0 in /usr/local/lib/python3.11/dist-packages (from openai<2.0,>=1.48->exa-py) (2.10.6)\n",
            "Requirement already satisfied: sniffio in /usr/local/lib/python3.11/dist-packages (from openai<2.0,>=1.48->exa-py) (1.3.1)\n",
            "Requirement already satisfied: tqdm>4 in /usr/local/lib/python3.11/dist-packages (from openai<2.0,>=1.48->exa-py) (4.67.1)\n",
            "Requirement already satisfied: charset-normalizer<4,>=2 in /usr/local/lib/python3.11/dist-packages (from requests<3.0.0,>=2.32.3->exa-py) (3.4.1)\n",
            "Requirement already satisfied: idna<4,>=2.5 in /usr/local/lib/python3.11/dist-packages (from requests<3.0.0,>=2.32.3->exa-py) (3.10)\n",
            "Requirement already satisfied: urllib3<3,>=1.21.1 in /usr/local/lib/python3.11/dist-packages (from requests<3.0.0,>=2.32.3->exa-py) (2.3.0)\n",
            "Requirement already satisfied: certifi>=2017.4.17 in /usr/local/lib/python3.11/dist-packages (from requests<3.0.0,>=2.32.3->exa-py) (2024.12.14)\n",
            "Requirement already satisfied: httpcore==1.* in /usr/local/lib/python3.11/dist-packages (from httpx<1,>=0.23.0->openai<2.0,>=1.48->exa-py) (1.0.7)\n",
            "Requirement already satisfied: h11<0.15,>=0.13 in /usr/local/lib/python3.11/dist-packages (from httpcore==1.*->httpx<1,>=0.23.0->openai<2.0,>=1.48->exa-py) (0.14.0)\n",
            "Requirement already satisfied: annotated-types>=0.6.0 in /usr/local/lib/python3.11/dist-packages (from pydantic<3,>=1.9.0->openai<2.0,>=1.48->exa-py) (0.7.0)\n",
            "Requirement already satisfied: pydantic-core==2.27.2 in /usr/local/lib/python3.11/dist-packages (from pydantic<3,>=1.9.0->openai<2.0,>=1.48->exa-py) (2.27.2)\n",
            "Downloading exa_py-1.8.5-py3-none-any.whl (10 kB)\n",
            "Installing collected packages: exa-py\n",
            "Successfully installed exa-py-1.8.5\n"
          ]
        }
      ],
      "source": [
        "!pip -qqq install pip --progress-bar off\n",
        "!pip -qqq install 'crewai[tools]'==0.28.8 --progress-bar off\n",
        "!pip -qqq install langchain-groq==0.1.3 --progress-bar off\n",
        "!pip -qqq install duckduckgo-search==5.3.0 --progress-bar off\n",
        "!pip install exa-py"
      ]
    },
    {
      "cell_type": "code",
      "source": [
        "from exa_py import Exa\n",
        "import requests\n",
        "import pandas as pd\n",
        "import os\n",
        "\n",
        "os.environ[\"GROQ_API_KEY\"] = input(\"Enter your GROQ API Key: \")"
      ],
      "metadata": {
        "collapsed": true,
        "id": "ACQPzxYEQipe"
      },
      "execution_count": null,
      "outputs": []
    },
    {
      "cell_type": "code",
      "source": [
        "# Initialize Exa API\n",
        "exa = Exa(api_key=\"Your EXA API Key\")\n",
        "\n",
        "def get_cryptocurrency_news(query):\n",
        "    result = exa.search_and_contents(query, summary=True)\n",
        "\n",
        "    # Ensure results exist before iterating\n",
        "    if result.results:\n",
        "        news_list = []\n",
        "        for item in result.results:\n",
        "            # Extracting attributes directly from the Result object\n",
        "            news_item = {\n",
        "                \"title\": item.title if hasattr(item, \"title\") else \"No Title\",\n",
        "                \"url\": item.url if hasattr(item, \"url\") else \"#\",  # URL and ID are the same\n",
        "                \"id\": item.id if hasattr(item, \"id\") else \"#\",  # ID is same as URL\n",
        "                \"score\": item.score if hasattr(item, \"score\") else \"No Score\",\n",
        "                \"published_date\": item.published_date if hasattr(item, \"published_date\") else \"Unknown Date\",\n",
        "                \"author\": item.author if hasattr(item, \"author\") else \"Unknown Author\",\n",
        "                \"image\": item.image if hasattr(item, \"image\") else \"No Image\",\n",
        "                \"favicon\": item.favicon if hasattr(item, \"favicon\") else \"No Favicon\",\n",
        "                \"summary\": item.summary if hasattr(item, \"summary\") else \"No Summary\",\n",
        "                \"highlights\": item.highlights if hasattr(item, \"highlights\") else \"No Highlights\",\n",
        "                \"highlight_scores\": item.highlight_scores if hasattr(item, \"highlight_scores\") else \"No Highlight Scores\",\n",
        "            }\n",
        "            news_list.append(news_item)\n",
        "\n",
        "        return news_list\n",
        "    else:\n",
        "        return []  # Return empty list if no results found\n",
        "\n",
        "\n",
        "# Fetch and display news\n",
        "news = get_cryptocurrency_news(\"Bitcoin cryptocurrency\")\n",
        "for article in news[:5]:  # Display top 5 articles\n",
        "    print(f\"Title: {article['title']}\\nURL: {article['url']}\\nID: {article['id']}\\nPublished Date: {article['published_date']}\\nAuthor: {article['author']}\\nImage: {article['image']}\\nFavicon: {article['favicon']}\\nSummary: {article['summary']}\\n\")\n",
        "\n"
      ],
      "metadata": {
        "colab": {
          "base_uri": "https://localhost:8080/"
        },
        "id": "GQNtHQwC-D7i",
        "outputId": "b87bafb7-6b1b-4932-97d7-4918416da04f"
      },
      "execution_count": 4,
      "outputs": [
        {
          "output_type": "stream",
          "name": "stdout",
          "text": [
            "Title: What is Bitcoin? Introductory video and current Bitcoin price.\n",
            "URL: https://www.weusecoins.com/\n",
            "ID: https://www.weusecoins.com/\n",
            "Published Date: 2022-01-01T00:00:00.000Z\n",
            "Author: WeUseCoins\n",
            "Image: None\n",
            "Favicon: https://www.weusecoins.com/favicon.ico\n",
            "Summary: Bitcoin is a decentralized, peer-to-peer payment network, the first practical implementation of blockchain technology.  It allows secure, easy, and relatively low-fee transactions globally.  While its price is volatile, Bitcoin is considered by some notable figures like Al Gore and Bill Gates to be a significant technological advancement.  It's open-source, with no single owner or central authority.  The network is maintained by a global community of developers.  Be wary of similar but different cryptocurrencies like Bitcoin Cash.\n",
            "\n",
            "\n",
            "Title: What is Bitcoin? - Start with Bitcoin\n",
            "URL: https://startwithbitcoin.org/what-is-bitcoin\n",
            "ID: https://startwithbitcoin.org/what-is-bitcoin\n",
            "Published Date: None\n",
            "Author: \n",
            "Image: https://startwithbitcoin.org/images/twitter.png\n",
            "Favicon: None\n",
            "Summary: Bitcoin is a digital currency that's permissionless, global, and has a limited supply.  Unlike traditional payment systems like PayPal or banks, Bitcoin transactions don't require permission or intermediary control.  It's designed to be a worldwide, free-flowing currency, avoiding currency conversion fees and inflation risks inherent in government-controlled money.\n",
            "\n",
            "\n",
            "Title: How does Bitcoin work? - Bitcoin\n",
            "URL: https://bitcoin.org/en/how-it-works\n",
            "ID: https://bitcoin.org/en/how-it-works\n",
            "Published Date: 2024-01-01T00:00:00.000Z\n",
            "Author: \n",
            "Image: https://bitcoin.org/img/icons/opengraph.png?1716491272\n",
            "Favicon: https://bitcoin.org/favicon.png?1716491272\n",
            "Summary: Bitcoin is a cryptocurrency based on a shared public ledger called the blockchain.  Transactions are transfers of value between wallets, signed with a private key for verification.  A distributed consensus system called mining confirms transactions by adding them to the blockchain.  This process ensures chronological order and prevents manipulation of the record.  New users can get started with a Bitcoin wallet and addresses, similar to email addresses.\n",
            "\n",
            "\n",
            "Title: Getting started - Bitcoin\n",
            "URL: https://bitcoin.org/en/getting-started\n",
            "ID: https://bitcoin.org/en/getting-started\n",
            "Published Date: 2024-01-01T00:00:00.000Z\n",
            "Author: \n",
            "Image: https://bitcoin.org/img/icons/opengraph.png?1716491272\n",
            "Favicon: https://bitcoin.org/favicon.png?1716491272\n",
            "Summary: Bitcoin is a cryptocurrency that can be used for transactions.  To get started, learn about Bitcoin, choose a wallet, obtain Bitcoin (e.g., by buying it), and then spend it with merchants accepting Bitcoin.  If you are a merchant wanting to accept Bitcoin, learn how to process payments, manage accounting and taxes, and gain visibility to attract customers.\n",
            "\n",
            "\n",
            "Title: Bitcoin - Open source P2P money\n",
            "URL: https://bitcoin.org/en/about\n",
            "ID: https://bitcoin.org/en/about\n",
            "Published Date: 2024-01-01T00:00:00.000Z\n",
            "Author: \n",
            "Image: https://bitcoin.org/img/icons/opengraph.png?1716491272\n",
            "Favicon: https://bitcoin.org/favicon.png?1716491272\n",
            "Summary: Bitcoin is an open-source, peer-to-peer digital currency.  This website, bitcoin.org, is a community-funded resource for information about Bitcoin.\n",
            "\n",
            "\n"
          ]
        }
      ]
    },
    {
      "cell_type": "code",
      "source": [
        "def get_daily_closing_prices(ticker) -> pd.DataFrame:\n",
        "    api_key = \"OLEHY2C4W22JPZ9P\"\n",
        "    url = f\"https://www.alphavantage.co/query?function=DIGITAL_CURRENCY_DAILY&symbol={ticker}&market=USD&apikey={api_key}\"\n",
        "    response = requests.get(url)\n",
        "    data = response.json()\n",
        "    price_data = data[\"Time Series (Digital Currency Daily)\"]\n",
        "    daily_close_prices = {\n",
        "        date: prices[\"4. close\"] for (date, prices) in price_data.items()\n",
        "    }\n",
        "\n",
        "    df = pd.DataFrame.from_dict(daily_close_prices, orient=\"index\", columns=[\"price\"])\n",
        "    df.index = pd.to_datetime(df.index)\n",
        "    df[\"price\"] = pd.to_numeric(df[\"price\"])\n",
        "\n",
        "    return df\n",
        "\n",
        "def format_prices(price_df: pd.DataFrame) -> str:\n",
        "    \"\"\"Format the daily closing prices.\"\"\"\n",
        "    text_output = [\n",
        "        f\"{date.strftime('%Y-%m-%d')} - {row['price']:.2f}\"\n",
        "        for date, row in price_df.head(10).iterrows()\n",
        "    ]\n",
        "    return \"\\n\".join(text_output)\n",
        "\n",
        "# Fetch and format Bitcoin price data\n",
        "price_df = get_daily_closing_prices(\"BTC\")\n",
        "formatted_prices = format_prices(price_df)\n",
        "print(\"\\nBitcoin Daily Closing Prices:\\n\", formatted_prices)"
      ],
      "metadata": {
        "colab": {
          "base_uri": "https://localhost:8080/"
        },
        "id": "dqJkWeLTNKnO",
        "outputId": "42b7e3a2-9beb-4995-edb7-63919dbafa7d"
      },
      "execution_count": 5,
      "outputs": [
        {
          "output_type": "stream",
          "name": "stdout",
          "text": [
            "\n",
            "Bitcoin Daily Closing Prices:\n",
            " 2025-01-30 - 104454.86\n",
            "2025-01-29 - 103747.25\n",
            "2025-01-28 - 101290.00\n",
            "2025-01-27 - 102062.42\n",
            "2025-01-26 - 102563.00\n",
            "2025-01-25 - 104733.56\n",
            "2025-01-24 - 104850.27\n",
            "2025-01-23 - 103926.36\n",
            "2025-01-22 - 103667.11\n",
            "2025-01-21 - 106159.26\n"
          ]
        }
      ]
    },
    {
      "cell_type": "markdown",
      "source": [
        "#Tools"
      ],
      "metadata": {
        "id": "CgXurXIfPX4d"
      }
    },
    {
      "cell_type": "code",
      "source": [
        "from crewai_tools import tool\n",
        "from langchain.agents import load_tools"
      ],
      "metadata": {
        "id": "mwa7jgKVPS9m"
      },
      "execution_count": 6,
      "outputs": []
    },
    {
      "cell_type": "code",
      "source": [
        "human_tools = load_tools([\"human\"])"
      ],
      "metadata": {
        "id": "xuNnxVaDUd4j"
      },
      "execution_count": 7,
      "outputs": []
    },
    {
      "cell_type": "code",
      "source": [
        "@tool(\"search_tool\")\n",
        "def search_tool(query: str) -> str:\n",
        "    \"\"\"Search for the latest news and provide a summary about a given query using Exa.\"\"\"\n",
        "    # Perform the search and fetch the results\n",
        "    result = exa.search_and_contents(query, summary=True)\n",
        "\n",
        "    # Ensure results exist before processing\n",
        "    if result.results:\n",
        "        news_list = []\n",
        "        for item in result.results:\n",
        "            # Extracting attributes directly from the Result object\n",
        "            news_item = {\n",
        "                \"title\": item.title if hasattr(item, \"title\") else \"No Title\",\n",
        "                \"url\": item.url if hasattr(item, \"url\") else \"#\",  # URL and ID are the same\n",
        "                \"id\": item.id if hasattr(item, \"id\") else \"#\",  # ID is same as URL\n",
        "                \"score\": item.score if hasattr(item, \"score\") else \"No Score\",\n",
        "                \"published_date\": item.published_date if hasattr(item, \"published_date\") else \"Unknown Date\",\n",
        "                \"author\": item.author if hasattr(item, \"author\") else \"Unknown Author\",\n",
        "                \"image\": item.image if hasattr(item, \"image\") else \"No Image\",\n",
        "                \"favicon\": item.favicon if hasattr(item, \"favicon\") else \"No Favicon\",\n",
        "                \"summary\": item.summary if hasattr(item, \"summary\") else \"No Summary\",\n",
        "                \"highlights\": item.highlights if hasattr(item, \"highlights\") else \"No Highlights\",\n",
        "                \"highlight_scores\": item.highlight_scores if hasattr(item, \"highlight_scores\") else \"No Highlight Scores\",\n",
        "            }\n",
        "            news_list.append(news_item)\n",
        "\n",
        "        # Format the news items into a readable string\n",
        "        output = []\n",
        "        for news_item in news_list:\n",
        "            output.append(f\"Title: {news_item['title']}\\nURL: {news_item['url']}\\nSummary: {news_item['summary']}\\n\")\n",
        "\n",
        "        return \"\\n\".join(output)\n",
        "    else:\n",
        "        return \"No results found.\""
      ],
      "metadata": {
        "id": "tvPsL1OSRvu-"
      },
      "execution_count": 8,
      "outputs": []
    },
    {
      "cell_type": "code",
      "source": [
        "@tool(\"price tool\")\n",
        "def cryptocurrency_price_tool(ticker_symbol: str) -> str:\n",
        "    \"\"\"Get daily closing price for a given cryptocurrency ticker symbol for the previous 60 days\"\"\"\n",
        "    price_df = get_daily_closing_prices(ticker_symbol)\n",
        "    text_output = []\n",
        "    for date, row in price_df.head(60).iterrows():\n",
        "        text_output.append(f\"{date.strftime('%Y-%m-%d')} - {row['price']:.2f}\")\n",
        "    return \"\\n\".join(text_output)\n"
      ],
      "metadata": {
        "id": "pJP2z1_EM9OH"
      },
      "execution_count": 9,
      "outputs": []
    },
    {
      "cell_type": "code",
      "source": [
        "@tool(\"search tool\")\n",
        "def cryptocurrency_news_tool(ticker_symbol: str) -> str:\n",
        "    \"\"\"Get news for a given cryptocurrency ticker symbol\"\"\"\n",
        "    return search_tool.run(ticker_symbol + \" cryptocurrency\")"
      ],
      "metadata": {
        "id": "vFIq3bPEM_vU"
      },
      "execution_count": 10,
      "outputs": []
    },
    {
      "cell_type": "markdown",
      "source": [
        "#Llama 3 with Groq"
      ],
      "metadata": {
        "id": "Mhkhj5DKQPnV"
      }
    },
    {
      "cell_type": "code",
      "source": [
        "from langchain_core.prompts import ChatPromptTemplate\n",
        "from langchain_groq import ChatGroq"
      ],
      "metadata": {
        "id": "uNEtCDFcQOOA"
      },
      "execution_count": 11,
      "outputs": []
    },
    {
      "cell_type": "code",
      "source": [
        "# Llama 3 with Groq for inference\n",
        "llm = ChatGroq(temperature=0, model_name=\"llama3-70b-8192\")\n",
        "\n",
        "system_message = \"You are an experienced Machine Learning & AI Engineer.\"\n",
        "human_message = \"How to increase inference speed for a 7B LLM?\"\n",
        "prompt = ChatPromptTemplate.from_messages([(\"system\", system_message), (\"human\", human_message)])\n",
        "\n",
        "chain = prompt | llm\n",
        "response = chain.invoke({\"text\": human_message})\n",
        "\n",
        "print(\"\\nLLM Response:\\n\", response.content)"
      ],
      "metadata": {
        "colab": {
          "base_uri": "https://localhost:8080/"
        },
        "id": "nXSfPMElG1kW",
        "outputId": "ddaac482-abc7-4e7b-e1c3-dfd636ae1410"
      },
      "execution_count": 12,
      "outputs": [
        {
          "output_type": "stream",
          "name": "stdout",
          "text": [
            "\n",
            "LLM Response:\n",
            " Increasing inference speed for a 7B Large Language Model (LLM) is crucial for many applications, such as real-time language translation, chatbots, and text summarization. Here are some strategies to optimize inference speed for a 7B LLM:\n",
            "\n",
            "1. **Model Pruning**: Remove redundant or unnecessary weights and connections in the model to reduce its size and computational requirements. This can be done using techniques like magnitude-based pruning, L1 regularization, or iterative pruning.\n",
            "2. **Knowledge Distillation**: Train a smaller, simpler model (the student) to mimic the behavior of the large 7B LLM (the teacher). The student model can then be used for inference, which is typically faster than the teacher model.\n",
            "3. **Quantization**: Represent the model's weights and activations using fewer bits (e.g., int8 instead of float32). This reduces memory usage and can lead to faster inference times. Techniques like quantization-aware training can help maintain accuracy.\n",
            "4. **Tensor Train Decomposition**: Decompose the model's weights into a sequence of low-rank tensors, reducing the computational complexity of matrix multiplications.\n",
            "5. **Sparse Models**: Store only non-zero weights in memory, reducing the model's size and the number of computations required during inference.\n",
            "6. **GPU Optimization**: Optimize the model for GPU acceleration using techniques like:\n",
            "\t* **Tensor Fusion**: Fuse multiple operations into a single kernel to reduce memory access and increase parallelism.\n",
            "\t* **Memory Coalescing**: Optimize memory access patterns to minimize memory bandwidth usage.\n",
            "\t* **Batching**: Process multiple input samples in parallel to increase throughput.\n",
            "7. **CPU Optimization**: Optimize the model for CPU inference using techniques like:\n",
            "\t* **OpenBLAS**: Use optimized BLAS libraries for matrix multiplications.\n",
            "\t* **AVX-512 Instructions**: Leverage advanced vector extensions for faster computations.\n",
            "\t* **Thread Parallelism**: Utilize multiple CPU cores to parallelize computations.\n",
            "8. **Model Parallelism**: Split the model into smaller parts and process them in parallel across multiple devices (GPUs or CPUs).\n",
            "9. **Pipeline Parallelism**: Break down the inference process into a pipeline of smaller tasks, each executed on a different device or core.\n",
            "10. **Caching**: Cache frequently accessed model weights or intermediate results to reduce the number of computations required during inference.\n",
            "11. **Optimized Inference Engines**: Use optimized inference engines like TensorFlow Lite, OpenVINO, or TensorRT, which provide optimized kernels and memory management for various hardware platforms.\n",
            "12. **Hardware Acceleration**: Leverage specialized hardware like TPUs (Tensor Processing Units), FPGAs (Field-Programmable Gate Arrays), or ASICs (Application-Specific Integrated Circuits) designed for accelerating machine learning workloads.\n",
            "\n",
            "By applying these strategies, you can significantly increase the inference speed of your 7B LLM, making it more suitable for real-time applications.\n"
          ]
        }
      ]
    },
    {
      "cell_type": "markdown",
      "source": [
        "#Agents"
      ],
      "metadata": {
        "id": "yLtSBJYxNYaI"
      }
    },
    {
      "cell_type": "code",
      "source": [
        "from crewai import Agent, Crew, Process, Task"
      ],
      "metadata": {
        "colab": {
          "base_uri": "https://localhost:8080/"
        },
        "id": "PzxoHFsgPrEb",
        "outputId": "e2e609c9-3a2d-4854-bff9-668ea6000dea"
      },
      "execution_count": 13,
      "outputs": [
        {
          "output_type": "stream",
          "name": "stderr",
          "text": [
            "/usr/local/lib/python3.11/dist-packages/pydantic/_internal/_generate_schema.py:775: UserWarning: Mixing V1 models and V2 models (or constructs, like `TypeAdapter`) is not supported. Please upgrade `CrewAgentExecutor` to V2.\n",
            "  warn(\n"
          ]
        }
      ]
    },
    {
      "cell_type": "code",
      "source": [
        "customer_communicator = Agent(\n",
        "    role=\"Senior cryptocurrency customer communicator\",\n",
        "    goal=\"Find which cryptocurrency the customer is interested in\",\n",
        "    backstory=\"\"\"You're highly experienced in communicating about cryptocurrencies\n",
        "    and blockchain technology with customers and their research needs\"\"\",\n",
        "    verbose=True,\n",
        "    allow_delegation=False,\n",
        "    llm=llm,\n",
        "    max_iter=5,\n",
        "    memory=True,\n",
        "    tools=human_tools,\n",
        ")\n",
        ""
      ],
      "metadata": {
        "id": "IfiGJP7EMy8h"
      },
      "execution_count": 14,
      "outputs": []
    },
    {
      "cell_type": "code",
      "source": [
        "news_analyst = Agent(\n",
        "    role=\"Cryptocurrency News Analyst\",\n",
        "    goal=\"\"\"Get news for a given cryptocurrency. Write 1 paragraph analysis of\n",
        "    the market and make prediction - up, down or neutral.\"\"\",\n",
        "    backstory=\"\"\"You're an expert analyst of trends based on cryptocurrency news.\n",
        "    You have a complete understanding of macroeconomic factors, but you specialize\n",
        "    into analyzing news.\n",
        "    \"\"\",\n",
        "    verbose=True,\n",
        "    allow_delegation=False,\n",
        "    llm=llm,\n",
        "    max_iter=5,\n",
        "    memory=True,\n",
        "    tools=[cryptocurrency_news_tool],\n",
        ")"
      ],
      "metadata": {
        "id": "JarhKKAaNfmg"
      },
      "execution_count": 15,
      "outputs": []
    },
    {
      "cell_type": "code",
      "source": [
        "price_analyst = Agent(\n",
        "    role=\"Cryptocurrency Price Analyst\",\n",
        "    goal=\"\"\"Get historical prices for a given cryptocurrency. Write 1 paragraph analysis of\n",
        "    the market and make prediction - up, down or neutral.\"\"\",\n",
        "    backstory=\"\"\"You're an expert analyst of trends based on cryptocurrency\n",
        "    historical prices. You have a complete understanding of macroeconomic factors,\n",
        "    but you specialize into technical analys based on historical prices.\n",
        "    \"\"\",\n",
        "    verbose=True,\n",
        "    allow_delegation=False,\n",
        "    llm=llm,\n",
        "    max_iter=5,\n",
        "    memory=True,\n",
        "    tools=[cryptocurrency_price_tool],\n",
        ")"
      ],
      "metadata": {
        "id": "HdO3cJTiNgM0"
      },
      "execution_count": 16,
      "outputs": []
    },
    {
      "cell_type": "code",
      "source": [
        "writer = Agent(\n",
        "    role=\"Cryptocurrency Report Writer\",\n",
        "    goal=\"\"\"Write 1 paragraph report of the cryptocurrency market.\"\"\",\n",
        "    backstory=\"\"\"\n",
        "    You're widely accepted as the best cryptocurrency analyst that\n",
        "    understands the market and have tracked every asset for more than 10 years. Your trends\n",
        "    analysis are always extremely accurate.\n",
        "\n",
        "    You're also master level analyst in the traditional markets and have deep understanding\n",
        "    of human psychology. You understand macro factors and combine those multiple\n",
        "    theories - e.g. cycle theory. You're able to hold multiple opininons when analysing anything.\n",
        "\n",
        "    You understand news and historical prices, but you look at those with a\n",
        "    healthy dose of skepticism. You also consider the source of news articles.\n",
        "\n",
        "    Your most well developed talent is providing clear and concise summarization\n",
        "    that explains very complex market topics in simple to understand terms.\n",
        "\n",
        "    Some of your writing techniques include:\n",
        "\n",
        "    - Creating a bullet list (executive summary) of the most importannt points\n",
        "    - Distill complex analyses to their most important parts\n",
        "\n",
        "    You writing transforms even dry and most technical texts into\n",
        "    a pleasant and interesting read.\"\"\",\n",
        "    llm=llm,\n",
        "    verbose=True,\n",
        "    max_iter=5,\n",
        "    memory=True,\n",
        "    allow_delegation=False,\n",
        ")\n",
        ""
      ],
      "metadata": {
        "id": "6lKovMAENiUL"
      },
      "execution_count": 17,
      "outputs": []
    },
    {
      "cell_type": "markdown",
      "source": [
        "#Tasks"
      ],
      "metadata": {
        "id": "dUedi7FpNoPn"
      }
    },
    {
      "cell_type": "code",
      "source": [
        "get_cryptocurrency = Task(\n",
        "    description=f\"Ask which cryptocurrency the customer is interested in.\",\n",
        "    expected_output=\"\"\"Cryptocurrency symbol that the human wants you to research e.g. BTC.\"\"\",\n",
        "    agent=customer_communicator,\n",
        ")"
      ],
      "metadata": {
        "id": "BrZ2eItpNqjx"
      },
      "execution_count": 18,
      "outputs": []
    },
    {
      "cell_type": "code",
      "source": [
        "from datetime import datetime\n",
        "\n",
        "get_news_analysis = Task(\n",
        "    description=f\"\"\"\n",
        "    Use the search tool to get news for the cryptocurrency\n",
        "\n",
        "    The current date is {datetime.now()}.\n",
        "\n",
        "    Compose the results into a helpful report\"\"\",\n",
        "    expected_output=\"\"\"Create 1 paragraph report for the cryptocurrency,\n",
        "    along with a prediction for the future trend\n",
        "    \"\"\",\n",
        "    agent=news_analyst,\n",
        "    context=[get_cryptocurrency],\n",
        ")"
      ],
      "metadata": {
        "id": "XaEMe5PqNs8F"
      },
      "execution_count": 19,
      "outputs": []
    },
    {
      "cell_type": "code",
      "source": [
        "get_price_analysis = Task(\n",
        "    description=f\"\"\"\n",
        "    Use the price tool to get historical prices\n",
        "\n",
        "    The current date is {datetime.now()}.\n",
        "\n",
        "    Compose the results into a helpful report\"\"\",\n",
        "    expected_output=\"\"\"Create 1 paragraph summary for the cryptocurrency,\n",
        "    along with a prediction for the future trend\n",
        "    \"\"\",\n",
        "    agent=price_analyst,\n",
        "    context=[get_cryptocurrency],\n",
        ")"
      ],
      "metadata": {
        "id": "EKQ95UpYNutE"
      },
      "execution_count": 20,
      "outputs": []
    },
    {
      "cell_type": "code",
      "source": [
        "write_report = Task(\n",
        "    description=f\"\"\"Use the reports from the news analyst and the price analyst to\n",
        "    create a report that summarizes the cryptocurrency\"\"\",\n",
        "    expected_output=\"\"\"1 paragraph report that summarizes the market and\n",
        "    predicts the future prices (trend) for the cryptocurrency\"\"\",\n",
        "    agent=writer,\n",
        "    context=[get_news_analysis, get_price_analysis],\n",
        ")"
      ],
      "metadata": {
        "id": "DM_R2aPZNziu"
      },
      "execution_count": 21,
      "outputs": []
    },
    {
      "cell_type": "markdown",
      "source": [
        "#Crew"
      ],
      "metadata": {
        "id": "a-IMxQ_bN2tk"
      }
    },
    {
      "cell_type": "code",
      "source": [
        "crew = Crew(\n",
        "    agents=[customer_communicator, price_analyst, news_analyst, writer],\n",
        "    tasks=[get_cryptocurrency, get_news_analysis, get_price_analysis, write_report],\n",
        "    verbose=2,\n",
        "    process=Process.sequential,\n",
        "    full_output=True,\n",
        "    share_crew=False,\n",
        "    manager_llm=llm,\n",
        "    max_iter=15,\n",
        ")"
      ],
      "metadata": {
        "id": "yMY3_6B7N5qG"
      },
      "execution_count": 22,
      "outputs": []
    },
    {
      "cell_type": "code",
      "source": [
        "results = crew.kickoff()"
      ],
      "metadata": {
        "colab": {
          "base_uri": "https://localhost:8080/"
        },
        "id": "797keZLhN-jF",
        "outputId": "e27677dd-eef8-4731-d26b-89dd32d4e540"
      },
      "execution_count": 23,
      "outputs": [
        {
          "output_type": "stream",
          "name": "stdout",
          "text": [
            "\u001b[1m\u001b[95m [DEBUG]: == Working Agent: Senior cryptocurrency customer communicator\u001b[00m\n",
            "\u001b[1m\u001b[95m [INFO]: == Starting Task: Ask which cryptocurrency the customer is interested in.\u001b[00m\n",
            "\n",
            "\n",
            "\u001b[1m> Entering new CrewAgentExecutor chain...\u001b[0m\n",
            "\u001b[32;1m\u001b[1;3mThought: I need to ask the customer about their interest in cryptocurrencies to find out which one they're interested in.\n",
            "\n",
            "Action: human\n",
            "Action Input: {\"question\": \"Hello! I'm here to help you with your cryptocurrency research. Are you interested in a specific cryptocurrency?\"}\u001b[0m\n",
            "\n",
            "Hello! I'm here to help you with your cryptocurrency research. Are you interested in a specific cryptocurrency?\n",
            "Dogecoin\n",
            "\u001b[95m \n",
            "\n",
            "Dogecoin\n",
            "\u001b[00m\n",
            "\u001b[32;1m\u001b[1;3mThought: The customer mentioned Dogecoin, but I need to confirm if that's the one they're interested in researching.\n",
            "\n",
            "Action: human\n",
            "Action Input: {\"question\": \"Great, you mentioned Dogecoin! Is that the cryptocurrency you'd like to learn more about?\"}\u001b[0m\n",
            "\n",
            "Great, you mentioned Dogecoin! Is that the cryptocurrency you'd like to learn more about?\n",
            "Yes\n",
            "\u001b[95m \n",
            "\n",
            "Yes\n",
            "\u001b[00m\n",
            "\u001b[32;1m\u001b[1;3mThought: I now know the final answer\n",
            "Final Answer: DOGE\u001b[0m\n",
            "\n",
            "\u001b[1m> Finished chain.\u001b[0m\n",
            "\u001b[1m\u001b[92m [DEBUG]: == [Senior cryptocurrency customer communicator] Task output: DOGE\n",
            "\n",
            "\u001b[00m\n",
            "\u001b[1m\u001b[95m [DEBUG]: == Working Agent: Cryptocurrency News Analyst\u001b[00m\n",
            "\u001b[1m\u001b[95m [INFO]: == Starting Task: \n",
            "    Use the search tool to get news for the cryptocurrency\n",
            "\n",
            "    The current date is 2025-01-30 13:27:08.102462.\n",
            "\n",
            "    Compose the results into a helpful report\u001b[00m\n",
            "\n",
            "\n",
            "\u001b[1m> Entering new CrewAgentExecutor chain...\u001b[0m\n",
            "\u001b[32;1m\u001b[1;3mThought: I need to get the latest news for DOGE to analyze the market trend.\n",
            "\n",
            "Action: search tool\n",
            "Action Input: {\"ticker_symbol\": \"DOGE\"}\n",
            "\u001b[0mUsing Tool: search_tool\n",
            "\u001b[95m \n",
            "\n",
            "Title: Do Only Good Everyday\n",
            "URL: https://dogecoin.com/\n",
            "Summary: Dogecoin (DOGE) is an open-source, peer-to-peer digital currency built on blockchain technology.  It's known for its community-driven ethos and is favored by Shiba Inu enthusiasts worldwide.\n",
            "\n",
            "\n",
            "Title: Dogecoin (DOGE) – Mining, Pools, Wallets, Price – BitcoinWiki\n",
            "URL: https://en.bitcoinwiki.org/wiki/DOGE\n",
            "Summary: Dogecoin (DOGE) is a Litecoin-derived cryptocurrency featuring a Shiba Inu logo.  Created in 2013, it's used as a form of online tipping.  Mining differs from Litecoin, with blocks created every minute, and initial coin production was capped at 100 billion, later becoming unlimited.  While not widely used commercially, it's seen as an internet tipping system.  The cryptocurrency's price and community sentiment are often discussed with the phrase \"to the moon\".\n",
            "\n",
            "\n",
            "Title: Dogecoin\n",
            "URL: https://en.wikipedia.org/wiki/Dogecoin\n",
            "Summary: Dogecoin (DOGE) is a cryptocurrency created by Billy Markus and Jackson Palmer in 2013 as a joke.  It's based on the \"doge\" meme and features the image of Kabosu the dog in its logo.  Dogecoin uses a proof-of-work, Scrypt-based system and has a floating, highly volatile exchange rate.  It's considered the first meme coin and is available on various operating systems, including Windows, Linux, iOS, and Android.\n",
            "\n",
            "\n",
            "Title: DOGE Stock Price, Performance, Valuation and Price Chart...\n",
            "URL: https://utradea.com/crypto/DOGE\n",
            "Summary: This webpage provides information on DOGE cryptocurrency, including price, performance, and valuation charts.  Unfortunately, there is no news currently available.  The site offers tools to view price charts (simple, candlestick, Twitter, and Stocktwits),  and links to explore circulating supply, trending coins, trading pairs, exchanges, social media feeds (Twitter, Stocktwits), and community discussions.  However,  the site is focused heavily on providing these data tools rather than comprehensive analysis.\n",
            "\n",
            "\n",
            "Title: What is Dogecoin?\n",
            "URL: https://www.weusecoins.com/what-is-dogecoin/\n",
            "Summary: Dogecoin is a cryptocurrency used to buy goods, services, or traded for other currencies.  It's often used for tipping online content creators.  Getting started involves getting a Dogecoin wallet, purchasing Dogecoin from an exchange (like Kraken), and using the wallet.  The article also briefly explains how to mine Dogecoin using your CPU or GPU, but emphasizes joining a mining pool for better efficiency.\n",
            "\n",
            "\n",
            "Title: Cryptocurrency Dogecoin (DOGE): What It Is, History, and Uses\n",
            "URL: https://www.investopedia.com/terms/d/dogecoin.asp\n",
            "Summary: Dogecoin (DOGE) is a decentralized cryptocurrency launched in 2013 as a humorous take on the cryptocurrency craze.  Created by Jackson Palmer and Billy Markus, it's based on Litecoin's Scrypt technology and features a Shiba Inu dog logo.  Dogecoin has a dedicated community, with some using it for tipping and donations.  While its initial value was driven by meme-related hype, its value has seen fluctuations and concerns exist about its utility beyond its community use cases.\n",
            "\n",
            "\n",
            "Title: Dogecoin Foundation\n",
            "URL: https://dogecoin.org/\n",
            "Summary: The Dogecoin Foundation website is a resource for information about Dogecoin (DOGE), a cryptocurrency.  It appears to be primarily a static site with no specific information about DOGE's current status, market value, or use-cases.  Further information about DOGE's functionality, price, and community might be found on other websites or cryptocurrency resources.\n",
            "\n",
            "\n",
            "Title: Dogecoin, Explained: A Versatile Cryptocurrency for Tipping, Donations, and Purchases\n",
            "URL: https://www.blockchain.com/blog/posts/dogecoin-explained\n",
            "Summary: Dogecoin (DOGE) is a cryptocurrency created in 2013, based on Litecoin.  It's used for tipping, donations, and purchases.  Transactions are recorded on a public blockchain, making it transparent and secure.  Dogecoin is decentralized, meaning no central authority controls it, and is inflationary, with no limit on the number created.  You can buy DOGE with USD, GBP, or EUR using a Blockchain.com account, and manage a Dogecoin wallet there.\n",
            "\n",
            "\n",
            "Title: DOGE: Department of Government Efficiency\n",
            "URL: https://doge.gov/\n",
            "Summary: DOGE is a cryptocurrency, not a government agency.  The website linked appears to be a U.S. government website, but has no information related to the cryptocurrency.\n",
            "\n",
            "\n",
            "Title: Overview\n",
            "URL: https://altcurrencyhelp.com/altcoin-information/dogecoin\n",
            "Summary: Dogecoin (DOGE) is a cryptocurrency.  Resources include the Dogecoin website (dogecoin.com), online wallet (my.dogechain.info), Wikipedia page, Dogecoin Foundation (foundation.dogecoin.com), a \"Get Started\" guide, and a Dogecoin subreddit (reddit.com/r/dogecoin).\n",
            "\n",
            "\n",
            "\u001b[00m\n",
            "\u001b[32;1m\u001b[1;3mThought: I now know the final answer\n",
            "\n",
            "Final Answer: \n",
            "\n",
            "Based on the latest news for DOGE, the market trend appears to be neutral. The news articles provide a mix of information about Dogecoin's history, uses, and community, but do not indicate any significant changes or developments that would impact the market trend. The lack of recent news or updates on the cryptocurrency's price or valuation suggests that the market is stable and not experiencing any major fluctuations. Therefore, my prediction is that the trend will remain neutral in the short term.\u001b[0m\n",
            "\n",
            "\u001b[1m> Finished chain.\u001b[0m\n",
            "\u001b[1m\u001b[92m [DEBUG]: == [Cryptocurrency News Analyst] Task output: Based on the latest news for DOGE, the market trend appears to be neutral. The news articles provide a mix of information about Dogecoin's history, uses, and community, but do not indicate any significant changes or developments that would impact the market trend. The lack of recent news or updates on the cryptocurrency's price or valuation suggests that the market is stable and not experiencing any major fluctuations. Therefore, my prediction is that the trend will remain neutral in the short term.\n",
            "\n",
            "\u001b[00m\n",
            "\u001b[1m\u001b[95m [DEBUG]: == Working Agent: Cryptocurrency Price Analyst\u001b[00m\n",
            "\u001b[1m\u001b[95m [INFO]: == Starting Task: \n",
            "    Use the price tool to get historical prices\n",
            "\n",
            "    The current date is 2025-01-30 13:27:09.831143.\n",
            "\n",
            "    Compose the results into a helpful report\u001b[00m\n",
            "\n",
            "\n",
            "\u001b[1m> Entering new CrewAgentExecutor chain...\u001b[0m\n",
            "\u001b[32;1m\u001b[1;3mThought: I need to get the historical prices for DOGE to analyze the market trend and make a prediction.\n",
            "\n",
            "Action: price tool\n",
            "Action Input: {\"ticker_symbol\": \"DOGE\"}\u001b[0m\u001b[95m \n",
            "\n",
            "2025-01-30 - 0.33\n",
            "2025-01-29 - 0.32\n",
            "2025-01-28 - 0.32\n",
            "2025-01-27 - 0.33\n",
            "2025-01-26 - 0.34\n",
            "2025-01-25 - 0.35\n",
            "2025-01-24 - 0.35\n",
            "2025-01-23 - 0.35\n",
            "2025-01-22 - 0.36\n",
            "2025-01-21 - 0.37\n",
            "2025-01-20 - 0.35\n",
            "2025-01-19 - 0.36\n",
            "2025-01-18 - 0.40\n",
            "2025-01-17 - 0.42\n",
            "2025-01-16 - 0.38\n",
            "2025-01-15 - 0.39\n",
            "2025-01-14 - 0.36\n",
            "2025-01-13 - 0.34\n",
            "2025-01-12 - 0.34\n",
            "2025-01-11 - 0.34\n",
            "2025-01-10 - 0.33\n",
            "2025-01-09 - 0.32\n",
            "2025-01-08 - 0.34\n",
            "2025-01-07 - 0.35\n",
            "2025-01-06 - 0.39\n",
            "2025-01-05 - 0.38\n",
            "2025-01-04 - 0.39\n",
            "2025-01-03 - 0.38\n",
            "2025-01-02 - 0.34\n",
            "2025-01-01 - 0.32\n",
            "2024-12-31 - 0.32\n",
            "2024-12-30 - 0.31\n",
            "2024-12-29 - 0.31\n",
            "2024-12-28 - 0.32\n",
            "2024-12-27 - 0.31\n",
            "2024-12-26 - 0.31\n",
            "2024-12-25 - 0.33\n",
            "2024-12-24 - 0.34\n",
            "2024-12-23 - 0.32\n",
            "2024-12-22 - 0.31\n",
            "2024-12-21 - 0.32\n",
            "2024-12-20 - 0.32\n",
            "2024-12-19 - 0.31\n",
            "2024-12-18 - 0.36\n",
            "2024-12-17 - 0.39\n",
            "2024-12-16 - 0.40\n",
            "2024-12-15 - 0.41\n",
            "2024-12-14 - 0.40\n",
            "2024-12-13 - 0.41\n",
            "2024-12-12 - 0.41\n",
            "2024-12-11 - 0.41\n",
            "2024-12-10 - 0.39\n",
            "2024-12-09 - 0.41\n",
            "2024-12-08 - 0.47\n",
            "2024-12-07 - 0.45\n",
            "2024-12-06 - 0.44\n",
            "2024-12-05 - 0.43\n",
            "2024-12-04 - 0.43\n",
            "2024-12-03 - 0.41\n",
            "2024-12-02 - 0.42\n",
            "\u001b[00m\n",
            "\u001b[32;1m\u001b[1;3mThought: I now know the final answer\n",
            "\n",
            "Final Answer:\n",
            "\n",
            "Based on the historical prices of DOGE, the market trend appears to be neutral. The prices have been fluctuating within a narrow range, with no clear upward or downward trend. The highest price in the last 60 days was 0.47 on 2024-12-08, and the lowest price was 0.31 on 2024-12-29. The current price of 0.33 is close to the midpoint of this range. \n",
            "\n",
            "Given this neutral trend, my prediction is that the price of DOGE will remain stable in the short term, with a possibility of slight fluctuations. However, it's essential to continue monitoring the prices to identify any changes in the trend.\u001b[0m\n",
            "\n",
            "\u001b[1m> Finished chain.\u001b[0m\n",
            "\u001b[1m\u001b[92m [DEBUG]: == [Cryptocurrency Price Analyst] Task output: Based on the historical prices of DOGE, the market trend appears to be neutral. The prices have been fluctuating within a narrow range, with no clear upward or downward trend. The highest price in the last 60 days was 0.47 on 2024-12-08, and the lowest price was 0.31 on 2024-12-29. The current price of 0.33 is close to the midpoint of this range. \n",
            "\n",
            "Given this neutral trend, my prediction is that the price of DOGE will remain stable in the short term, with a possibility of slight fluctuations. However, it's essential to continue monitoring the prices to identify any changes in the trend.\n",
            "\n",
            "\u001b[00m\n",
            "\u001b[1m\u001b[95m [DEBUG]: == Working Agent: Cryptocurrency Report Writer\u001b[00m\n",
            "\u001b[1m\u001b[95m [INFO]: == Starting Task: Use the reports from the news analyst and the price analyst to\n",
            "    create a report that summarizes the cryptocurrency\u001b[00m\n",
            "\n",
            "\n",
            "\u001b[1m> Entering new CrewAgentExecutor chain...\u001b[0m\n",
            "\u001b[32;1m\u001b[1;3mI now can give a great answer.\n",
            "\n",
            "Final Answer:\n",
            "\n",
            "The cryptocurrency market for DOGE is currently exhibiting a neutral trend, with neither bullish nor bearish sentiments dominating the landscape. A review of recent news articles reveals a mix of historical context, community engagement, and use cases, but lacks any significant developments that could impact the market trend. Meanwhile, an analysis of historical prices shows a narrow trading range, with the current price of $0.33 hovering around the midpoint of the 60-day range ($0.31 - $0.47). In light of these findings, our prediction is that the trend will remain neutral in the short term, with prices likely to experience slight fluctuations but overall stability. Key takeaways include: neutral market trend, stable prices, and a need for continued monitoring to identify any potential changes in the trend.\u001b[0m\n",
            "\n",
            "\u001b[1m> Finished chain.\u001b[0m\n",
            "\u001b[1m\u001b[92m [DEBUG]: == [Cryptocurrency Report Writer] Task output: The cryptocurrency market for DOGE is currently exhibiting a neutral trend, with neither bullish nor bearish sentiments dominating the landscape. A review of recent news articles reveals a mix of historical context, community engagement, and use cases, but lacks any significant developments that could impact the market trend. Meanwhile, an analysis of historical prices shows a narrow trading range, with the current price of $0.33 hovering around the midpoint of the 60-day range ($0.31 - $0.47). In light of these findings, our prediction is that the trend will remain neutral in the short term, with prices likely to experience slight fluctuations but overall stability. Key takeaways include: neutral market trend, stable prices, and a need for continued monitoring to identify any potential changes in the trend.\n",
            "\n",
            "\u001b[00m\n"
          ]
        }
      ]
    },
    {
      "cell_type": "code",
      "source": [],
      "metadata": {
        "id": "gxYFEQdHQ1Wp"
      },
      "execution_count": null,
      "outputs": []
    }
  ]
}